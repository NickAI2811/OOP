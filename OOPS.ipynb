{
  "nbformat": 4,
  "nbformat_minor": 0,
  "metadata": {
    "colab": {
      "provenance": []
    },
    "kernelspec": {
      "name": "python3",
      "display_name": "Python 3"
    },
    "language_info": {
      "name": "python"
    }
  },
  "cells": [
    {
      "cell_type": "markdown",
      "source": [
        "Q.1. What is Object-Oriented Programming (OOP)?\n",
        "\n",
        "--> OOP (Object-Oriented Programming) is a programming paradigm based on the concept of \"objects\", which are instances of classes.\n",
        "These objects can contain data (called attributes or properties) and code (called methods or functions)."
      ],
      "metadata": {
        "id": "y-aJWHhkjtCd"
      }
    },
    {
      "cell_type": "markdown",
      "source": [
        "Q.2. What is a class in OOP?\n",
        "\n",
        "--> In Object-Oriented Programming (OOP), a class is a blueprint or template for creating objects. It defines a set of attributes (also called properties or variables) and methods (functions) that the objects created from the class will have."
      ],
      "metadata": {
        "id": "giBG19-vi0vz"
      }
    },
    {
      "cell_type": "markdown",
      "source": [
        "Q.3. What is an Object in oop?\n",
        "\n",
        "--> In Object-Oriented Programming (OOP), an object is an instance of a class. It is a real-world entity that contains:\n",
        "\n",
        "Attributes (data) : the state of the object.\n",
        "Methods (functions) : the behavior or actions the object can perform."
      ],
      "metadata": {
        "id": "LD-VBxmRjCNy"
      }
    },
    {
      "cell_type": "markdown",
      "source": [
        "Q.4. What is the difference between abstraction and encapsulation?\n",
        "\n",
        "--> Encapsulation : Hiding the internal state and requiring all interaction to be performed through an object’s methods.\n",
        "\n",
        "Abstraction : Hiding complex implementation details and showing only the essential features of an object."
      ],
      "metadata": {
        "id": "AQmL4s_RjiFm"
      }
    },
    {
      "cell_type": "markdown",
      "source": [
        "Q.5. What are dunder methods in Python?\n",
        "\n",
        "--> Dunder methods in Python (short for “double underscore” methods) are special methods that start and end with double underscores, like __init__, __str__, __len__, etc."
      ],
      "metadata": {
        "id": "rgMACjazk9kS"
      }
    },
    {
      "cell_type": "markdown",
      "source": [
        "Q.6. Explain the concepts of inheritence in oop?\n",
        "\n",
        "--> Inheritance is one of the core concepts of Object-Oriented Programming (OOP). It allows one class (called a child or derived class) to inherit the properties and behaviors (i.e., methods and attributes) from another class (called a parent or base class). Inheritance helps achieve code reusability and establishes a relationship between parent and child classes."
      ],
      "metadata": {
        "id": "DbZH5BG6lHFk"
      }
    },
    {
      "cell_type": "markdown",
      "source": [
        "Q.7. What is polymorphism in OOP?\n",
        "\n",
        "--> Polymorphism is one of the fundamental concepts of Object-Oriented Programming (OOP) that allows objects of different classes to be treated as objects of a common superclass. The term polymorphism comes from the Greek words poly (many) and morph (form), meaning \"many forms.\""
      ],
      "metadata": {
        "id": "esdJqzgFlL-b"
      }
    },
    {
      "cell_type": "markdown",
      "source": [
        "Q.8. How is encapsulation achieved in Python?\n",
        "\n",
        "--> Encapsulation is one of the core principles of Object-Oriented Programming (OOP). It refers to the bundling of data (attributes) and methods (functions) that operate on the data into a single unit or class, and restricting access to some of the object's components. This is typically done to protect the data and restrict its modification by unauthorized external code."
      ],
      "metadata": {
        "id": "i6XUgs68lQFs"
      }
    },
    {
      "cell_type": "markdown",
      "source": [
        "Q.9. What is a constructor in Python?\n",
        "\n",
        "--> A constructor in Python is a special method used to initialize objects when they are created from a class. It allows you to set up the initial state of the object by initializing its attributes (variables) when the object is instantiated."
      ],
      "metadata": {
        "id": "HvUt7FpplU3s"
      }
    },
    {
      "cell_type": "markdown",
      "source": [
        "Q.10. What are class and static methods in Python?\n",
        "\n",
        "--> A class method is a method that is bound to the class and not the instance of the class. It takes the class itself as its first argument, rather than an instance of the class (self). This is useful when you want to work with class-level data or perform operations that affect the entire class, not just a single instance."
      ],
      "metadata": {
        "id": "zFqHYInllYx8"
      }
    },
    {
      "cell_type": "markdown",
      "source": [
        "Q.11. What is method overloading in Python?\n",
        "\n",
        "--> In Object-Oriented Programming (OOP), method overloading refers to the ability of a class to define multiple methods with the same name but different parameters (number or type of arguments). This allows the method to behave differently depending on the number or type of arguments passed to it."
      ],
      "metadata": {
        "id": "7jOZ9hGjlecm"
      }
    },
    {
      "cell_type": "markdown",
      "source": [
        "Q.12. What is method overriding in OOP?\n",
        "\n",
        "--> Method Overriding is a concept in Object-Oriented Programming (OOP) where a derived class (subclass) provides its own specific implementation of a method that is already defined in its base class (superclass)."
      ],
      "metadata": {
        "id": "975sAeqzli_U"
      }
    },
    {
      "cell_type": "markdown",
      "source": [
        "Q.13. What is a property decorator in Python?\n",
        "\n",
        "--> The property decorator in Python is used to create getter, setter, and deleter methods for an attribute in a class, while allowing you to access it as though it's a regular attribute. It allows you to define a method that behaves like an attribute, with automatic handling of getting, setting, or deleting its value."
      ],
      "metadata": {
        "id": "MMb3Zmehlnz0"
      }
    },
    {
      "cell_type": "markdown",
      "source": [
        "Q.14. Why is polymorphism important in oop?\n",
        "\n",
        "--> Polymorphism is a core concept in Object-Oriented Programming (OOP) and refers to the ability of different classes to be treated as instances of the same class through a common interface. The term \"polymorphism\" means \"many shapes,\" which reflects the idea that the same method or function can take on different forms depending on the object or class it is called on."
      ],
      "metadata": {
        "id": "FtsZdgd_ivQu"
      }
    },
    {
      "cell_type": "markdown",
      "source": [
        "Q.15. What is an abstract class in Python?\n",
        "\n",
        "--> An abstract class in Python is a class that cannot be instantiated directly. It serves as a blueprint for other classes. Abstract classes allow you to define a common interface for derived classes while leaving some methods unimplemented, meaning they must be implemented by subclasses."
      ],
      "metadata": {
        "id": "mVvk8t9hl3mF"
      }
    },
    {
      "cell_type": "markdown",
      "source": [
        "Q.16. What are the advantages of OOP?\n",
        "\n",
        "--> Below are some key benefits of OOP:\n",
        "1. Modularity\n",
        "2. Reusability\n",
        "3. Flexibility through Polymorphism\n",
        "4. Improved Maintainability\n",
        "5. Easier to Understand and Design\n",
        "6. Data Security and Encapsulation\n",
        "7. Scalability"
      ],
      "metadata": {
        "id": "nOxNmJ9jl7tm"
      }
    },
    {
      "cell_type": "markdown",
      "source": [
        "Q.17. What is the difference between a class variable and an instance variable?\n",
        "\n",
        "--> The difference between a class variable and an instance variable lies in how and where they are stored, accessed, and shared across instances of a class.\n",
        "\n",
        "Instance Variable\n",
        "Definition: An instance variable is specific to an object (instance) of the class.\n",
        "Scope: Each object has its own copy of instance variables.\n",
        "Declared in: Typically initialized in the __init__() method using self.\n",
        "\n",
        "Class Variable\n",
        "Definition: A class variable is shared among all instances of the class.\n",
        "Scope: It is common to all objects and stored at the class level.\n",
        "Declared in: Defined directly inside the class, outside of any instance methods."
      ],
      "metadata": {
        "id": "ySKsQGdcmAg5"
      }
    },
    {
      "cell_type": "markdown",
      "source": [
        "Q.18. What is multiple inheritence in Python?\n",
        "\n",
        "--> Multiple inheritance is a feature in Python that allows a class to inherit from more than one parent class. This means the child class inherits attributes and methods from all the parent classes, enabling it to combine functionality from multiple sources."
      ],
      "metadata": {
        "id": "uHYnzCnYmSik"
      }
    },
    {
      "cell_type": "markdown",
      "source": [
        "Q.19. Explain the purpose of \"__str__\" and \"__repr__\" metgods in Python.\n",
        "\n",
        "--> In Python, __str__() and __repr__() are dunder methods (i.e., \"double underscore\" methods) used to define string representations of objects."
      ],
      "metadata": {
        "id": "9gH8NnYDmaId"
      }
    },
    {
      "cell_type": "markdown",
      "source": [
        "Q.20. What is the significance of the 'super()' function in Python?\n",
        "\n",
        "--> The super() function in Python is used to call methods from a parent (super) class. It's commonly used in inheritance scenarios to:\n",
        "\n",
        "Access the parent class's methods or constructors.\n",
        "Ensure proper method resolution in multiple inheritance.\n",
        "Avoid explicitly naming the parent class, making code more maintainable."
      ],
      "metadata": {
        "id": "cDIGUy8Amlcg"
      }
    },
    {
      "cell_type": "markdown",
      "source": [
        "Q.21. What is the significance of __del__ method in Python?\n",
        "\n",
        "--> The __del__() method in Python is a destructor method. It is called automatically when an object is about to be destroyed, typically when there are no more references to it.\n",
        "\n",
        "Purpose:\n",
        "To clean up resources — such as closing files, releasing network connections, or freeing memory — before the object is removed from memory."
      ],
      "metadata": {
        "id": "CCjoUGD2msfP"
      }
    },
    {
      "cell_type": "markdown",
      "source": [
        "Q.22. What is the difference between @staticmethod and @classmethod in Python?\n",
        "\n",
        "--> Both @staticmethod and @classmethod are decorators used to define methods that are not bound to instance objects, but they serve different purposes.\n",
        "\n",
        "@staticmethod\n",
        "Does not take self or cls as a parameter.\n",
        "It behaves like a regular function, just placed inside a class for logical grouping.\n",
        "Cannot access or modify class or instance state.\n",
        "\n",
        "@classmethod\n",
        "Takes cls as its first argument (refers to the class, not an instance).\n",
        "Can access or modify class-level attributes.\n",
        "Often used for factory methods that create class instances."
      ],
      "metadata": {
        "id": "ZzCCfFg3my88"
      }
    },
    {
      "cell_type": "markdown",
      "source": [
        "Q.23. How does polymorphism work in Python with inheritance?\n",
        "\n",
        "--> Polymorphism in Python allows objects of different classes to be treated as objects of a common superclass, especially when those classes override the same method.\n",
        "\n",
        "This enables code reusability and flexibility, as you can write functions or use variables that operate on parent-class references but invoke the correct method from the derived class."
      ],
      "metadata": {
        "id": "V_xLtRvZm6VP"
      }
    },
    {
      "cell_type": "markdown",
      "source": [
        "Q.24. What is method chaining in Python oop?\n",
        "\n",
        "--> Method chaining is a programming technique where multiple method calls are made in a single line, one after another, by having each method return self (the current object).\n",
        "\n",
        "Method chaining...\n",
        "Improves code readability and fluency.\n",
        "Allows for a more compact and expressive style of programming.\n",
        "Often used in builder patterns or fluent interfaces."
      ],
      "metadata": {
        "id": "7oN6lb6-nLf4"
      }
    },
    {
      "cell_type": "markdown",
      "source": [
        "Q.25. What is the purpose of the __call__ method in Python?\n",
        "\n",
        "--> The __call__ method in Python is a special method that allows an object to be called like a function. This means that if a class has a __call__ method defined, instances of that class can be invoked directly, just like functions."
      ],
      "metadata": {
        "id": "NU3kzV2vnQAC"
      }
    },
    {
      "cell_type": "markdown",
      "source": [],
      "metadata": {
        "id": "UmubJKFhnWUF"
      }
    },
    {
      "cell_type": "markdown",
      "source": [
        "**Practical Questions**"
      ],
      "metadata": {
        "id": "mPA04mDunWnV"
      }
    },
    {
      "cell_type": "code",
      "source": [
        "# Q.1. Creaate a parent class Animal with a method speak() that prints a generic message. Create a child class Dog that overrides the speak() method to print \"Bark\"!.\n",
        "class Animal:\n",
        "    def speak(self):\n",
        "        print(\"This animal makes a sound.\")\n",
        "\n",
        "class Dog(Animal):\n",
        "    def speak(self):\n",
        "        print(\"Bark!\")\n",
        "\n",
        "animal = Animal()\n",
        "dog = Dog()\n",
        "\n",
        "animal.speak()\n",
        "dog.speak()"
      ],
      "metadata": {
        "colab": {
          "base_uri": "https://localhost:8080/"
        },
        "id": "G1lkBQ-5nbpt",
        "outputId": "9a1dda44-63e6-44df-cd29-b8e53f5623ad"
      },
      "execution_count": 22,
      "outputs": [
        {
          "output_type": "stream",
          "name": "stdout",
          "text": [
            "This animal makes a sound.\n",
            "Bark!\n"
          ]
        }
      ]
    },
    {
      "cell_type": "code",
      "source": [
        "# Q.2. Write a program to create an abstract class Shape with a method area(). Derive classes Circle and Rectangle from it and implement the area() method in both.\n",
        "from abc import ABC, abstractmethod\n",
        "import math\n",
        "\n",
        "class Shape(ABC):\n",
        "    @abstractmethod\n",
        "    def area(self):\n",
        "        pass\n",
        "\n",
        "class Circle(Shape):\n",
        "    def __init__(self, radius):\n",
        "        self.radius = radius\n",
        "\n",
        "    def area(self):\n",
        "        return math.pi * self.radius ** 2\n",
        "\n",
        "class Rectangle(Shape):\n",
        "    def __init__(self, length, width):\n",
        "        self.length = length\n",
        "        self.width = width\n",
        "\n",
        "    def area(self):\n",
        "        return self.length * self.width\n",
        "\n",
        "circle = Circle(5)\n",
        "rectangle = Rectangle(4, 6)\n",
        "\n",
        "print(f\"Area of Circle: {circle.area():.2f}\")\n",
        "print(f\"Area of Rectangle: {rectangle.area()}\")"
      ],
      "metadata": {
        "colab": {
          "base_uri": "https://localhost:8080/"
        },
        "id": "ZimFUzyQnyv4",
        "outputId": "87488d53-34ff-49a8-a779-46dbfc327fb9"
      },
      "execution_count": 21,
      "outputs": [
        {
          "output_type": "stream",
          "name": "stdout",
          "text": [
            "Area of Circle: 78.54\n",
            "Area of Rectangle: 24\n"
          ]
        }
      ]
    },
    {
      "cell_type": "code",
      "source": [
        "# Q.3. Implement a multi-level inheritance scenario where a class Vehicle has an attribute type. Derive a class Car and further derive a class ElectricCar that addas battery attribute.\n",
        "class Vehicle:\n",
        "    def __init__(self, type_of_vehicle):\n",
        "        self.type = type_of_vehicle\n",
        "\n",
        "    def display_type(self):\n",
        "        return f\"Vehicle type: {self.type}\"\n",
        "\n",
        "class Car(Vehicle):\n",
        "    def __init__(self, type_of_vehicle, brand, model):\n",
        "        super().__init__(type_of_vehicle)\n",
        "        self.brand = brand\n",
        "        self.model = model\n",
        "\n",
        "    def display_car_info(self):\n",
        "        return f\"Car Brand: {self.brand}, Model: {self.model}\"\n",
        "\n",
        "class ElectricCar(Car):\n",
        "    def __init__(self, type_of_vehicle, brand, model, battery_capacity):\n",
        "        super().__init__(type_of_vehicle, brand, model)\n",
        "        self.battery_capacity = battery_capacity\n",
        "\n",
        "    def display_battery_info(self):\n",
        "        return f\"Battery Capacity: {self.battery_capacity} kWh\"\n",
        "\n",
        "electric_car = ElectricCar(\"Electric Vehicle\", \"Tesla\", \"Model S\", 100)\n",
        "\n",
        "print(electric_car.display_type())\n",
        "print(electric_car.display_car_info())\n",
        "print(electric_car.display_battery_info())"
      ],
      "metadata": {
        "colab": {
          "base_uri": "https://localhost:8080/"
        },
        "id": "0q_wIWFhoAZ0",
        "outputId": "89cfddd6-412f-46dc-8268-0c71ee076e12"
      },
      "execution_count": 20,
      "outputs": [
        {
          "output_type": "stream",
          "name": "stdout",
          "text": [
            "Vehicle type: Electric Vehicle\n",
            "Car Brand: Tesla, Model: Model S\n",
            "Battery Capacity: 100 kWh\n"
          ]
        }
      ]
    },
    {
      "cell_type": "code",
      "source": [
        "# Q.4. Demonstarte polymorphism by creating a base class Bird with a method fly(). Create two derived classes Sparrow and Penguin that override the fly() method.\n",
        "class Bird:\n",
        "    def fly(self):\n",
        "        pass\n",
        "\n",
        "class Sparrow(Bird):\n",
        "    def fly(self):\n",
        "        return \"Sparrow is flying high in the sky!\"\n",
        "\n",
        "class Penguin(Bird):\n",
        "    def fly(self):\n",
        "        return \"Penguin cannot fly, it swims instead!\"\n",
        "\n",
        "def make_bird_fly(bird):\n",
        "    print(bird.fly())\n",
        "\n",
        "sparrow = Sparrow()\n",
        "penguin = Penguin()\n",
        "\n",
        "make_bird_fly(sparrow)\n",
        "make_bird_fly(penguin)"
      ],
      "metadata": {
        "colab": {
          "base_uri": "https://localhost:8080/"
        },
        "id": "yyXhzvsnoTtq",
        "outputId": "c4acbb9e-d0d4-4a8c-ddcb-793964ac90c6"
      },
      "execution_count": 19,
      "outputs": [
        {
          "output_type": "stream",
          "name": "stdout",
          "text": [
            "Sparrow is flying high in the sky!\n",
            "Penguin cannot fly, it swims instead!\n"
          ]
        }
      ]
    },
    {
      "cell_type": "code",
      "source": [
        "# Q.5. Write a program to demonstrate encapsulation by creating a class BankAccount with private attributes balance and methods to deposit, withdraw and chech balance.\n",
        "class BankAccount:\n",
        "    def __init__(self, initial_balance=0):\n",
        "\n",
        "        self.__balance = initial_balance\n",
        "\n",
        "    def deposit(self, amount):\n",
        "        if amount > 0:\n",
        "            self.__balance += amount\n",
        "            print(f\"Deposited: ₹{amount}\")\n",
        "        else:\n",
        "            print(\"Invalid deposit amount.\")\n",
        "\n",
        "    def withdraw(self, amount):\n",
        "        if amount > 0 and amount <= self.__balance:\n",
        "            self.__balance -= amount\n",
        "            print(f\"Withdrew: ₹{amount}\")\n",
        "        else:\n",
        "            print(\"Invalid withdrawal amount or insufficient balance.\")\n",
        "\n",
        "    def check_balance(self):\n",
        "        return f\"Current balance: ₹{self.__balance}\"\n",
        "\n",
        "account = BankAccount(5000)\n",
        "\n",
        "account.deposit(1500)\n",
        "\n",
        "account.withdraw(2000)\n",
        "\n",
        "print(account.check_balance())"
      ],
      "metadata": {
        "colab": {
          "base_uri": "https://localhost:8080/"
        },
        "id": "YzUuNIZ4ooVn",
        "outputId": "cdfa3e7b-1570-487c-8a19-0440460531d5"
      },
      "execution_count": 18,
      "outputs": [
        {
          "output_type": "stream",
          "name": "stdout",
          "text": [
            "Deposited: ₹1500\n",
            "Withdrew: ₹2000\n",
            "Current balance: ₹4500\n"
          ]
        }
      ]
    },
    {
      "cell_type": "code",
      "source": [
        "# Q.6. Demonstarte runtime polymorphism using a method play() in a base class Instrument. Derive classes Guitar and Piano that implement their own version of play().\n",
        "class Instrument:\n",
        "    def play(self):\n",
        "        pass\n",
        "\n",
        "class Guitar(Instrument):\n",
        "    def play(self):\n",
        "        return \"Playing the guitar\"\n",
        "\n",
        "class Piano(Instrument):\n",
        "    def play(self):\n",
        "        return \"Playing the piano\"\n",
        "\n",
        "def perform(instrument):\n",
        "    print(instrument.play())\n",
        "\n",
        "guitar = Guitar()\n",
        "piano = Piano()\n",
        "\n",
        "perform(guitar)\n",
        "perform(piano)"
      ],
      "metadata": {
        "colab": {
          "base_uri": "https://localhost:8080/"
        },
        "id": "7_tIs_LVo2hF",
        "outputId": "e1e0d047-924e-4f1e-ffe8-da24c0365958"
      },
      "execution_count": 17,
      "outputs": [
        {
          "output_type": "stream",
          "name": "stdout",
          "text": [
            "Playing the guitar\n",
            "Playing the piano\n"
          ]
        }
      ]
    },
    {
      "cell_type": "code",
      "source": [
        "# Q.7. Create a class MathOperations with a class method add_numbers() to ass two numbers and a static method subtract_numbers() to subtract two numbers.\n",
        "class MathOperations:\n",
        "    @classmethod\n",
        "    def add_numbers(cls, num1, num2):\n",
        "        return num1 + num2\n",
        "\n",
        "    @staticmethod\n",
        "    def subtract_numbers(num1, num2):\n",
        "        return num1 - num2\n",
        "\n",
        "result_add = MathOperations.add_numbers(10, 5)\n",
        "result_subtract = MathOperations.subtract_numbers(10, 5)\n",
        "\n",
        "print(f\"Addition result: {result_add}\")\n",
        "print(f\"Subtraction result: {result_subtract}\")"
      ],
      "metadata": {
        "colab": {
          "base_uri": "https://localhost:8080/"
        },
        "id": "OBejCxuzpC8i",
        "outputId": "3810dd36-391d-4c0c-ca1e-6d2e1bc597ac"
      },
      "execution_count": 16,
      "outputs": [
        {
          "output_type": "stream",
          "name": "stdout",
          "text": [
            "Addition result: 15\n",
            "Subtraction result: 5\n"
          ]
        }
      ]
    },
    {
      "cell_type": "code",
      "source": [
        "# Q.8. Implement a class Person with a class method to count the total numbers of persons created.\n",
        "class Person:\n",
        "    total_persons = 0\n",
        "\n",
        "    def __init__(self, name, age):\n",
        "        self.name = name\n",
        "        self.age = age\n",
        "        Person.total_persons += 1\n",
        "\n",
        "    @classmethod\n",
        "    def count_persons(cls):\n",
        "        return cls.total_persons\n",
        "\n",
        "person1 = Person(\"Alice\", 30)\n",
        "person2 = Person(\"Bob\", 25)\n",
        "\n",
        "print(f\"Total persons created: {Person.count_persons()}\")\n",
        "\n",
        "person3 = Person(\"Charlie\", 28)\n",
        "print(f\"Total persons created: {Person.count_persons()}\")"
      ],
      "metadata": {
        "colab": {
          "base_uri": "https://localhost:8080/"
        },
        "id": "nQumdhzMpPlf",
        "outputId": "4969027c-72b6-4351-976e-9bdaf92e385e"
      },
      "execution_count": 14,
      "outputs": [
        {
          "output_type": "stream",
          "name": "stdout",
          "text": [
            "Total persons created: 2\n",
            "Total persons created: 3\n"
          ]
        }
      ]
    },
    {
      "cell_type": "code",
      "source": [
        "# Q.9. Write a class Fraction with attributes numerator and denominator. Override the str method to display the frcation as \"numerator/denominator\".\n",
        "class Fraction:\n",
        "    def __init__(self, numerator, denominator):\n",
        "        self.numerator = numerator\n",
        "        self.denominator = denominator\n",
        "\n",
        "    def __str__(self):\n",
        "        return f\"{self.numerator}/{self.denominator}\"\n",
        "\n",
        "fraction1 = Fraction(3, 4)\n",
        "fraction2 = Fraction(5, 6)\n",
        "\n",
        "print(f\"Fraction 1: {fraction1}\")\n",
        "print(f\"Fraction 2: {fraction2}\")"
      ],
      "metadata": {
        "colab": {
          "base_uri": "https://localhost:8080/"
        },
        "id": "JOKfBoj4pWPm",
        "outputId": "7017d066-79c2-4872-87db-5f7415a49ee2"
      },
      "execution_count": 13,
      "outputs": [
        {
          "output_type": "stream",
          "name": "stdout",
          "text": [
            "Fraction 1: 3/4\n",
            "Fraction 2: 5/6\n"
          ]
        }
      ]
    },
    {
      "cell_type": "code",
      "source": [
        "# Q.10. Demonstarte operator overloading by creating a class Vector and overriding the add method to add two vectors.\n",
        "class Vector:\n",
        "    def __init__(self, x, y):\n",
        "        self.x = x\n",
        "        self.y = y\n",
        "\n",
        "    def __add__(self, other):\n",
        "        return Vector(self.x + other.x, self.y + other.y)\n",
        "\n",
        "    def __repr__(self):\n",
        "        return f\"Vector({self.x}, {self.y})\"\n",
        "\n",
        "vector1 = Vector(3, 4)\n",
        "vector2 = Vector(1, 2)\n",
        "\n",
        "result = vector1 + vector2\n",
        "print(f\"Result of adding vectors: {result}\")"
      ],
      "metadata": {
        "colab": {
          "base_uri": "https://localhost:8080/"
        },
        "id": "xVyOT9hIpkip",
        "outputId": "07315e05-b1bb-4e92-9ba1-76a4a985a1a3"
      },
      "execution_count": 12,
      "outputs": [
        {
          "output_type": "stream",
          "name": "stdout",
          "text": [
            "Result of adding vectors: Vector(4, 6)\n"
          ]
        }
      ]
    },
    {
      "cell_type": "code",
      "source": [
        "# Q.11. Create a class Person with attributes name and age. Add a method greet() that prints \"Hello, my name is {name} and I am {age} years old\".\n",
        "class Person:\n",
        "    def __init__(self, name, age):\n",
        "        self.name = name\n",
        "        self.age = age\n",
        "\n",
        "    def greet(self):\n",
        "        print(f\"Hello, my name is {self.name} and I am {self.age} years old.\")\n",
        "\n",
        "person1 = Person(\"Alice\", 30)\n",
        "person2 = Person(\"Bob\", 25)\n",
        "\n",
        "person1.greet()\n",
        "person2.greet()"
      ],
      "metadata": {
        "colab": {
          "base_uri": "https://localhost:8080/"
        },
        "id": "Oi-6c2srpuZ6",
        "outputId": "70534baf-51b3-4a57-be5a-8f8093f26b8c"
      },
      "execution_count": 11,
      "outputs": [
        {
          "output_type": "stream",
          "name": "stdout",
          "text": [
            "Hello, my name is Alice and I am 30 years old.\n",
            "Hello, my name is Bob and I am 25 years old.\n"
          ]
        }
      ]
    },
    {
      "cell_type": "code",
      "source": [
        "# Q.12. Implement a class Student with attributes name and grades. Create a method average_grade() to compute the average of the grades.\n",
        "class Student:\n",
        "    def __init__(self, name, grades):\n",
        "        self.name = name\n",
        "        self.grades = grades  # grades should be a list of numbers\n",
        "\n",
        "    def average_grade(self):\n",
        "        return sum(self.grades) / len(self.grades) if self.grades else 0\n",
        "\n",
        "student1 = Student(\"Alice\", [85, 90, 78, 92])\n",
        "student2 = Student(\"Bob\", [70, 75, 80, 65])\n",
        "\n",
        "print(f\"{student1.name}'s Average Grade: {student1.average_grade():.2f}\")\n",
        "print(f\"{student2.name}'s Average Grade: {student2.average_grade():.2f}\")"
      ],
      "metadata": {
        "colab": {
          "base_uri": "https://localhost:8080/"
        },
        "id": "oI8UZJoRp7ya",
        "outputId": "6267a4ac-ec0d-4057-b646-164407b2f2eb"
      },
      "execution_count": 10,
      "outputs": [
        {
          "output_type": "stream",
          "name": "stdout",
          "text": [
            "Alice's Average Grade: 86.25\n",
            "Bob's Average Grade: 72.50\n"
          ]
        }
      ]
    },
    {
      "cell_type": "code",
      "source": [
        "# Q.13. Create a class Rectangle with methods set_dimensions() to set the dimensions and area() to calculate the area.\n",
        "class Rectangle:\n",
        "    def __init__(self):\n",
        "        self.length = 0\n",
        "        self.width = 0\n",
        "\n",
        "    def set_dimensions(self, length, width):\n",
        "        self.length = length\n",
        "        self.width = width\n",
        "\n",
        "    def area(self):\n",
        "        return self.length * self.width\n",
        "\n",
        "rect = Rectangle()\n",
        "rect.set_dimensions(5, 3)\n",
        "print(f\"Area of the rectangle: {rect.area()} square units\")"
      ],
      "metadata": {
        "colab": {
          "base_uri": "https://localhost:8080/"
        },
        "id": "wBVaqCocqFwK",
        "outputId": "f346b176-6872-4727-c743-92d243d6d9e2"
      },
      "execution_count": 9,
      "outputs": [
        {
          "output_type": "stream",
          "name": "stdout",
          "text": [
            "Area of the rectangle: 15 square units\n"
          ]
        }
      ]
    },
    {
      "cell_type": "code",
      "source": [
        "# Q.14. Create a class Employee with a method calculate_salary() that computes the salary based on hours worked and hourly rate. Create a derived class Manager that adds a bonus to the salary.\n",
        "class Employee:\n",
        "    def __init__(self, name, hours_worked, hourly_rate):\n",
        "        self.name = name\n",
        "        self.hours_worked = hours_worked\n",
        "        self.hourly_rate = hourly_rate\n",
        "\n",
        "    def calculate_salary(self):\n",
        "        return self.hours_worked * self.hourly_rate\n",
        "\n",
        "class Manager(Employee):\n",
        "    def __init__(self, name, hours_worked, hourly_rate, bonus):\n",
        "        super().__init__(name, hours_worked, hourly_rate)\n",
        "        self.bonus = bonus\n",
        "\n",
        "    def calculate_salary(self):\n",
        "        base_salary = super().calculate_salary()\n",
        "        return base_salary + self.bonus\n",
        "\n",
        "emp = Employee(\"Alice\", 160, 300)\n",
        "mgr = Manager(\"Bob\", 160, 500, 10000)\n",
        "\n",
        "print(f\"{emp.name}'s Salary: ₹{emp.calculate_salary()}\")\n",
        "print(f\"{mgr.name}'s Salary: ₹{mgr.calculate_salary()}\")"
      ],
      "metadata": {
        "colab": {
          "base_uri": "https://localhost:8080/"
        },
        "id": "-WDLQTe0qOhq",
        "outputId": "d9fd25c5-f653-428d-dcc5-852e92ed7444"
      },
      "execution_count": 7,
      "outputs": [
        {
          "output_type": "stream",
          "name": "stdout",
          "text": [
            "Alice's Salary: ₹48000\n",
            "Bob's Salary: ₹90000\n"
          ]
        }
      ]
    },
    {
      "cell_type": "code",
      "source": [
        "# Q.15. Create a class Product with attributes name, price and quantity. Implement a method total_price() that calculates the total price of the product.\n",
        "class Product:\n",
        "    def __init__(self, name, price, quantity):\n",
        "        self.name = name\n",
        "        self.price = price\n",
        "        self.quantity = quantity\n",
        "\n",
        "    def total_price(self):\n",
        "        return self.price * self.quantity\n",
        "\n",
        "product1 = Product(\"Laptop\", 50000, 2)\n",
        "print(f\"Total price for {product1.name}s: ₹{product1.total_price()}\")"
      ],
      "metadata": {
        "colab": {
          "base_uri": "https://localhost:8080/"
        },
        "id": "MopKT80DqdNI",
        "outputId": "5eb0b038-e3e5-4194-bb58-ccb3b7a3172d"
      },
      "execution_count": 6,
      "outputs": [
        {
          "output_type": "stream",
          "name": "stdout",
          "text": [
            "Total price for Laptops: ₹100000\n"
          ]
        }
      ]
    },
    {
      "cell_type": "code",
      "source": [
        "# Q.16. Create a class Animal with an abstract method sound(). Create two derived classes Cow and Sheep that implement the sound() method.\n",
        "from abc import ABC, abstractmethod\n",
        "\n",
        "class Animal(ABC):\n",
        "    @abstractmethod\n",
        "    def sound(self):\n",
        "        pass\n",
        "\n",
        "class Cow(Animal):\n",
        "    def sound(self):\n",
        "        return \"Moo\"\n",
        "\n",
        "class Sheep(Animal):\n",
        "    def sound(self):\n",
        "        return \"Baa\"\n",
        "\n",
        "cow = Cow()\n",
        "sheep = Sheep()\n",
        "\n",
        "print(\"Cow says:\", cow.sound())\n",
        "print(\"Sheep says:\", sheep.sound())"
      ],
      "metadata": {
        "colab": {
          "base_uri": "https://localhost:8080/"
        },
        "id": "AZjGgoz3qudJ",
        "outputId": "5b9c2a0c-2b36-4b78-a1eb-9ae5780ddec7"
      },
      "execution_count": 5,
      "outputs": [
        {
          "output_type": "stream",
          "name": "stdout",
          "text": [
            "Cow says: Moo\n",
            "Sheep says: Baa\n"
          ]
        }
      ]
    },
    {
      "cell_type": "code",
      "source": [
        "# Q.17. Create a class Book with attributes title, author and year_published. Add a method get_book_info() that returns a formatted string with the book's details.\n",
        "class Book:\n",
        "    def __init__(self, title, author, year_published):\n",
        "        self.title = title\n",
        "        self.author = author\n",
        "        self.year_published = year_published\n",
        "\n",
        "    def get_book_info(self):\n",
        "        return f\"'{self.title}' by {self.author} (Published in {self.year_published})\"\n",
        "\n",
        "book1 = Book(\"To Kill a Mockingbird\", \"Harper Lee\", 1960)\n",
        "print(book1.get_book_info())"
      ],
      "metadata": {
        "colab": {
          "base_uri": "https://localhost:8080/"
        },
        "id": "giAit4tHq4xB",
        "outputId": "4e765cb4-c05c-47cd-f89f-098e20816f25"
      },
      "execution_count": 4,
      "outputs": [
        {
          "output_type": "stream",
          "name": "stdout",
          "text": [
            "'To Kill a Mockingbird' by Harper Lee (Published in 1960)\n"
          ]
        }
      ]
    },
    {
      "cell_type": "code",
      "source": [
        "# Q.18. Create a class House with attributes address and price. Create a derived class Mansion that adds an attribute number_of_rooms.\n",
        "class House:\n",
        "    def __init__(self, address, price):\n",
        "        self.address = address\n",
        "        self.price = price\n",
        "\n",
        "    def display_info(self):\n",
        "        print(f\"Address: {self.address}\")\n",
        "        print(f\"Price: ₹{self.price}\")\n",
        "\n",
        "class Mansion(House):\n",
        "    def __init__(self, address, price, number_of_rooms):\n",
        "        super().__init__(address, price)\n",
        "        self.number_of_rooms = number_of_rooms\n",
        "\n",
        "    def display_info(self):\n",
        "        super().display_info()\n",
        "        print(f\"Number of Rooms: {self.number_of_rooms}\")\n",
        "\n",
        "m = Mansion(\"SSEC\", 5000, 10)\n",
        "m.display_info()"
      ],
      "metadata": {
        "colab": {
          "base_uri": "https://localhost:8080/"
        },
        "id": "e7sUfH1FrHfu",
        "outputId": "34864abb-6e4b-43bf-f6d1-e8a5a4ee746e"
      },
      "execution_count": 3,
      "outputs": [
        {
          "output_type": "stream",
          "name": "stdout",
          "text": [
            "Address: SSEC\n",
            "Price: ₹5000\n",
            "Number of Rooms: 10\n"
          ]
        }
      ]
    }
  ]
}